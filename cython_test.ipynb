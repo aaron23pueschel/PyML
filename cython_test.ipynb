{
 "cells": [
  {
   "cell_type": "code",
   "execution_count": 1,
   "metadata": {},
   "outputs": [
    {
     "name": "stdout",
     "output_type": "stream",
     "text": [
      "Compiling NeuralNets_cython.pyx because it changed.\n",
      "[1/1] Cythonizing NeuralNets_cython.pyx\n"
     ]
    },
    {
     "name": "stderr",
     "output_type": "stream",
     "text": [
      "/home/aaron99/anaconda3/envs/PyTorch/lib/python3.11/site-packages/Cython/Compiler/Main.py:381: FutureWarning: Cython directive 'language_level' not set, using '3str' for now (Py3). This has changed from earlier releases! File: /home/aaron99/src/Personal_Project/NeuralNets_cython.pyx\n",
      "  tree = Parsing.p_module(s, pxd, full_module_name)\n"
     ]
    },
    {
     "name": "stdout",
     "output_type": "stream",
     "text": [
      "running build_ext\n",
      "building 'NeuralNets_cython' extension\n",
      "gcc -pthread -B /home/aaron99/anaconda3/envs/PyTorch/compiler_compat -DNDEBUG -fwrapv -O2 -Wall -fPIC -O2 -isystem /home/aaron99/anaconda3/envs/PyTorch/include -fPIC -O2 -isystem /home/aaron99/anaconda3/envs/PyTorch/include -fPIC -I/home/aaron99/anaconda3/envs/PyTorch/lib/python3.11/site-packages/numpy/core/include -I/home/aaron99/anaconda3/envs/PyTorch/include/python3.11 -c NeuralNets_cython.c -o build/temp.linux-x86_64-cpython-311/NeuralNets_cython.o\n"
     ]
    },
    {
     "name": "stderr",
     "output_type": "stream",
     "text": [
      "In file included from /home/aaron99/anaconda3/envs/PyTorch/lib/python3.11/site-packages/numpy/core/include/numpy/ndarraytypes.h:1929,\n",
      "                 from /home/aaron99/anaconda3/envs/PyTorch/lib/python3.11/site-packages/numpy/core/include/numpy/ndarrayobject.h:12,\n",
      "                 from /home/aaron99/anaconda3/envs/PyTorch/lib/python3.11/site-packages/numpy/core/include/numpy/arrayobject.h:5,\n",
      "                 from NeuralNets_cython.c:1205:\n",
      "/home/aaron99/anaconda3/envs/PyTorch/lib/python3.11/site-packages/numpy/core/include/numpy/npy_1_7_deprecated_api.h:17:2: warning: #warning \"Using deprecated NumPy API, disable it with \" \"#define NPY_NO_DEPRECATED_API NPY_1_7_API_VERSION\" [-Wcpp]\n",
      "   17 | #warning \"Using deprecated NumPy API, disable it with \" \\\n",
      "      |  ^~~~~~~\n"
     ]
    },
    {
     "name": "stdout",
     "output_type": "stream",
     "text": [
      "gcc -pthread -B /home/aaron99/anaconda3/envs/PyTorch/compiler_compat -shared -Wl,--allow-shlib-undefined -Wl,-rpath,/home/aaron99/anaconda3/envs/PyTorch/lib -Wl,-rpath-link,/home/aaron99/anaconda3/envs/PyTorch/lib -L/home/aaron99/anaconda3/envs/PyTorch/lib -Wl,--allow-shlib-undefined -Wl,-rpath,/home/aaron99/anaconda3/envs/PyTorch/lib -Wl,-rpath-link,/home/aaron99/anaconda3/envs/PyTorch/lib -L/home/aaron99/anaconda3/envs/PyTorch/lib build/temp.linux-x86_64-cpython-311/NeuralNets_cython.o -o build/lib.linux-x86_64-cpython-311/NeuralNets_cython.cpython-311-x86_64-linux-gnu.so\n",
      "copying build/lib.linux-x86_64-cpython-311/NeuralNets_cython.cpython-311-x86_64-linux-gnu.so -> \n"
     ]
    }
   ],
   "source": [
    "%%bash\n",
    "python setup.py build_ext --inplace"
   ]
  },
  {
   "cell_type": "code",
   "execution_count": 2,
   "metadata": {},
   "outputs": [],
   "source": [
    "%load_ext Cython"
   ]
  },
  {
   "cell_type": "code",
   "execution_count": 3,
   "metadata": {},
   "outputs": [],
   "source": [
    "import numpy as np"
   ]
  },
  {
   "cell_type": "code",
   "execution_count": 4,
   "metadata": {},
   "outputs": [],
   "source": [
    "%%cython\n",
    "import numpy as np\n",
    "\n",
    "cdef float[:,:] weights_in = np.random.randn(10, 10).astype(\"float32\")"
   ]
  },
  {
   "cell_type": "code",
   "execution_count": null,
   "metadata": {},
   "outputs": [],
   "source": []
  }
 ],
 "metadata": {
  "kernelspec": {
   "display_name": "PyTorch",
   "language": "python",
   "name": "python3"
  },
  "language_info": {
   "codemirror_mode": {
    "name": "ipython",
    "version": 3
   },
   "file_extension": ".py",
   "mimetype": "text/x-python",
   "name": "python",
   "nbconvert_exporter": "python",
   "pygments_lexer": "ipython3",
   "version": "3.11.5"
  },
  "orig_nbformat": 4
 },
 "nbformat": 4,
 "nbformat_minor": 2
}
